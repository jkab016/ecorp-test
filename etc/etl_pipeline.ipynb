{
 "cells": [
  {
   "cell_type": "code",
   "execution_count": 1,
   "id": "accd3e56",
   "metadata": {},
   "outputs": [],
   "source": [
    "import pandas as pd\n",
    "import sys\n",
    "pd.set_option(\"display.max_colwidth\", None)\n",
    "pd.set_option(\"display.width\", 800)"
   ]
  },
  {
   "cell_type": "code",
   "execution_count": 2,
   "id": "2347f98c",
   "metadata": {},
   "outputs": [],
   "source": [
    "import pandas as pd\n",
    "\n",
    "def ingest_csv(file_path):\n",
    "    print(\"[INGEST] Reading CSV...\")\n",
    "    df = pd.read_csv(file_path)\n",
    "    print(f\"[INGEST] Loaded {len(df)} rows with {len(df.columns)} columns.\")\n",
    "    return df"
   ]
  },
  {
   "cell_type": "code",
   "execution_count": 3,
   "id": "54238f9d",
   "metadata": {},
   "outputs": [
    {
     "name": "stdout",
     "output_type": "stream",
     "text": [
      "[INGEST] Reading CSV...\n",
      "[INGEST] Loaded 10000 rows with 5 columns.\n",
      "                          transaction_id  bank_id  customer_id  transaction_amount transaction_date\n",
      "0   595fbc6c-9cc5-44fa-8fc5-6f70e0a2909b     1007         2043             2989.78       2025-07-24\n",
      "1   fa427870-d966-4398-9b75-3e3fd0bcbf29     1004         2012             2293.15       2025-07-13\n",
      "2   68c9433b-0235-4ee5-bb4c-0a1f84455418     1008         2013             1710.41       2025-05-20\n",
      "3   094ac07a-9c89-49f5-9284-768c862113cf     1005         2036             2344.39       2025-07-22\n",
      "4   189fb491-17c3-4494-bcce-b8ae86d7b567     1007         2039             1563.96       2025-05-29\n",
      "5   44bedefc-52a3-4a01-a5ae-e9ae9d6394c1     1003         2034             2196.23       2025-06-25\n",
      "6   7e46562f-712e-41bc-a5cd-2d58f8641bcc     1007         2006             1800.98       2025-06-20\n",
      "7   8cb85b01-ee2e-4cd9-aaed-2740ce74679b     1008         2038             2835.36       2025-07-06\n",
      "8   599daa68-0d9e-4a7c-808c-66fd023eec13     1005         2040             1197.24       2025-05-14\n",
      "9   84858d61-ebb5-470d-8548-2e327818928a     1004         2008             4943.40       2025-07-08\n",
      "10  d59d8007-2d87-4dca-80b7-1c25f5df7d38     1008         2008             2509.34       2025-05-14\n",
      "11  e292e97c-86da-4c3f-9ddd-cb601f55990b     1008         2040              978.87       2025-06-10\n",
      "12  b4ba411e-bcb0-4902-b4eb-c2dd4449a8f4     1003         2033             2390.56       2025-06-09\n",
      "13  2303bd87-0a31-4fbd-8aac-c14187ec5978     1006         2034             4333.41       2025-07-22\n",
      "14  ebcd0990-5f22-4f6d-9738-13866b377877     1005         2044              118.82       2025-06-01\n",
      "(10000, 5)\n"
     ]
    }
   ],
   "source": [
    "txn = ingest_csv(\"../data/mock_transactions.csv\")\n",
    "print(txn.head(15))\n",
    "print(txn.shape)"
   ]
  },
  {
   "cell_type": "code",
   "execution_count": 20,
   "id": "882d46cb",
   "metadata": {},
   "outputs": [],
   "source": [
    "from sqlalchemy import create_engine, text\n",
    "def get_engine(user, password, host, port, db):\n",
    "    url = f\"mysql+pymysql://{user}:{password}@{host}:{port}/{db}\"\n",
    "    return create_engine(url)\n",
    "\n",
    "engine = get_engine(\"root\", \"root\", \"localhost\", 3306, \"eft_db\")"
   ]
  },
  {
   "cell_type": "code",
   "execution_count": 21,
   "id": "67a5b0ef",
   "metadata": {},
   "outputs": [],
   "source": [
    "def transform_customer_txns(df):\n",
    "    print(\"[TRANSFORM-CUSTOMER] Starting transformation...\")\n",
    "\n",
    "    required_cols = [\"customer_id\", \"transaction_date\", \"transaction_amount\", \"transaction_id\"]\n",
    "    missing = [c for c in required_cols if c not in df.columns]\n",
    "    if missing:\n",
    "        raise ValueError(f\"Missing columns: {missing}\")\n",
    "\n",
    "    df[\"transaction_date\"] = pd.to_datetime(df[\"transaction_date\"], errors=\"coerce\")\n",
    "    df[\"transaction_amount\"] = pd.to_numeric(df[\"transaction_amount\"], errors=\"coerce\")\n",
    "    df[\"customer_id\"] = pd.to_numeric(df[\"customer_id\"], errors=\"coerce\", downcast=\"integer\")\n",
    "\n",
    "    before_rows = len(df)\n",
    "    df = df.dropna(subset=[\"transaction_date\", \"transaction_amount\", \"customer_id\"])\n",
    "    print(f\"[TRANSFORM-CUSTOMER] Dropped {before_rows - len(df)} null rows.\")\n",
    "\n",
    "    before_rows = len(df)\n",
    "    df = df[df[\"transaction_amount\"] >= 0]\n",
    "    print(f\"[TRANSFORM-CUSTOMER] Removed {before_rows - len(df)} rows with negative amounts.\")\n",
    "\n",
    "    agg_df = (\n",
    "        df.groupby([\"customer_id\", \"transaction_date\"], as_index=False)\n",
    "          .agg(\n",
    "              total_amount=(\"transaction_amount\", \"sum\"),\n",
    "              num_transactions=(\"transaction_id\", \"count\")\n",
    "          )\n",
    "    )\n",
    "    agg_df.rename(columns={\"transaction_date\": \"agg_date\"}, inplace=True)\n",
    "    print(f\"[TRANSFORM-CUSTOMER] Aggregated into {len(agg_df)} rows.\")\n",
    "\n",
    "    return agg_df\n"
   ]
  },
  {
   "cell_type": "code",
   "execution_count": 22,
   "id": "d1b863a2",
   "metadata": {},
   "outputs": [
    {
     "name": "stdout",
     "output_type": "stream",
     "text": [
      "[TRANSFORM-CUSTOMER] Starting transformation...\n",
      "[TRANSFORM-CUSTOMER] Dropped 0 null rows.\n",
      "[TRANSFORM-CUSTOMER] Removed 0 rows with negative amounts.\n",
      "[TRANSFORM-CUSTOMER] Aggregated into 4023 rows.\n"
     ]
    }
   ],
   "source": [
    "cust_df = transform_customer_txns(txn)"
   ]
  },
  {
   "cell_type": "code",
   "execution_count": 23,
   "id": "dfcd4ca2",
   "metadata": {},
   "outputs": [],
   "source": [
    "def load_to_mysql(engine, df, table_name, truncate=False):\n",
    "    if df.empty:\n",
    "        print(f\"[LOAD] No data to load for {table_name}.\")\n",
    "        return\n",
    "    \n",
    "    with engine.begin() as conn:\n",
    "        if truncate:\n",
    "            print(f\"[LOAD] Truncating table {table_name}...\")\n",
    "            conn.execute(text(f\"TRUNCATE TABLE {table_name}\"))\n",
    "\n",
    "        df.to_sql(table_name, engine, if_exists=\"append\", index=False)\n",
    "        print(f\"[LOAD] Inserted {len(df)} rows into {table_name}.\")"
   ]
  },
  {
   "cell_type": "code",
   "execution_count": 25,
   "id": "4ae69622",
   "metadata": {},
   "outputs": [
    {
     "name": "stdout",
     "output_type": "stream",
     "text": [
      "[LOAD] Truncating table ana_customer_daily_summary...\n",
      "[LOAD] Inserted 4023 rows into ana_customer_daily_summary.\n"
     ]
    }
   ],
   "source": [
    "load_to_mysql(engine, cust_df, \"ana_customer_daily_summary\", truncate=True)"
   ]
  }
 ],
 "metadata": {
  "kernelspec": {
   "display_name": "Python 3",
   "language": "python",
   "name": "python3"
  },
  "language_info": {
   "codemirror_mode": {
    "name": "ipython",
    "version": 3
   },
   "file_extension": ".py",
   "mimetype": "text/x-python",
   "name": "python",
   "nbconvert_exporter": "python",
   "pygments_lexer": "ipython3",
   "version": "3.11.9"
  }
 },
 "nbformat": 4,
 "nbformat_minor": 5
}
